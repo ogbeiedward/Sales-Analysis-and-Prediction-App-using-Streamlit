{
 "cells": [
  {
   "cell_type": "code",
   "execution_count": 2,
   "metadata": {},
   "outputs": [],
   "source": []
  },
  {
   "cell_type": "markdown",
   "metadata": {},
   "source": [
    "## Sales Analysis and Prediction App (using Streamlit)\n",
    "##### Author: Edward Ogbiei\n",
    "##### Date: October 2022\n",
    "##### About: This project is a demonstration of how data solutions like Data Analyses and Forecast can easily be made end user friendly, such type of apps (web apps) can be used to get an overview of a company's performance to aid decision making."
   ]
  },
  {
   "cell_type": "markdown",
   "metadata": {},
   "source": []
  }
 ],
 "metadata": {
  "kernelspec": {
   "display_name": "Python 3.10.1 64-bit",
   "language": "python",
   "name": "python3"
  },
  "language_info": {
   "codemirror_mode": {
    "name": "ipython",
    "version": 3
   },
   "file_extension": ".py",
   "mimetype": "text/x-python",
   "name": "python",
   "nbconvert_exporter": "python",
   "pygments_lexer": "ipython3",
   "version": "3.10.1"
  },
  "orig_nbformat": 4,
  "vscode": {
   "interpreter": {
    "hash": "204cf68cbde5306ebdb29a111719c66673058cabe6e23ee361745513cd55c99f"
   }
  }
 },
 "nbformat": 4,
 "nbformat_minor": 2
}
